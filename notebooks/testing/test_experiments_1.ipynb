{
 "cells": [
  {
   "cell_type": "markdown",
   "metadata": {},
   "source": [
    "# Test the Experiment class and the functions in experiments.py:"
   ]
  },
  {
   "cell_type": "code",
   "execution_count": 1,
   "metadata": {},
   "outputs": [],
   "source": [
    "%load_ext autoreload\n",
    "%autoreload 2\n",
    "\n",
    "import numpy as np\n",
    "\n",
    "import dtw_missing.experiments as exp"
   ]
  },
  {
   "cell_type": "markdown",
   "metadata": {},
   "source": [
    "Create a simple dataset:"
   ]
  },
  {
   "cell_type": "code",
   "execution_count": 2,
   "metadata": {},
   "outputs": [],
   "source": [
    "dataset = np.array([[1, 1, 1, 5, 5, 2, 2], \n",
    "                    [1, 5, 5, 5, 5, 5, 2], \n",
    "                    [1.5, 5, 2, 2, 2, 2, 2], \n",
    "                    [10, 10, 10, 10, 10, 10, 10]\n",
    "                  ])\n",
    "N = len(dataset) # #instances"
   ]
  },
  {
   "cell_type": "markdown",
   "metadata": {},
   "source": [
    "Contaminate the dataset:"
   ]
  },
  {
   "cell_type": "code",
   "execution_count": 3,
   "metadata": {},
   "outputs": [],
   "source": [
    "dataset[0, 2] = np.nan\n",
    "dataset[1, 2:4] = np.nan\n",
    "dataset[2, -1] = np.nan\n",
    "dataset[3, 0:4] = np.nan"
   ]
  },
  {
   "cell_type": "markdown",
   "metadata": {},
   "source": [
    "Set DTW(-AROW) parameters:"
   ]
  },
  {
   "cell_type": "code",
   "execution_count": 4,
   "metadata": {},
   "outputs": [],
   "source": [
    "dtw_params = {\n",
    "    'window' : None,\n",
    "    'max_dist' : None,\n",
    "    'use_pruning' : False,\n",
    "    'max_step' : None,\n",
    "    'max_length_diff' : None,\n",
    "    'penalty' : None,\n",
    "    'psi' : None, #(2, 3, 4, 5), # (begin series1, end series1, begin series2, end series2)\n",
    "    'psi_neg' : True,\n",
    "    'use_c' : False,\n",
    "    'use_ndim' : False,\n",
    "}"
   ]
  },
  {
   "cell_type": "markdown",
   "metadata": {},
   "source": [
    "## Test the functions:"
   ]
  },
  {
   "cell_type": "markdown",
   "metadata": {},
   "source": [
    "### Univariate:"
   ]
  },
  {
   "cell_type": "code",
   "execution_count": 5,
   "metadata": {},
   "outputs": [
    {
     "name": "stdout",
     "output_type": "stream",
     "text": [
      "[[ 0.          4.5126086   4.64578662 15.42724862]\n",
      " [ 4.5126086   0.          4.8194681  14.12444689]\n",
      " [ 4.64578662  4.8194681   0.         14.11067366]\n",
      " [15.42724862 14.12444689 14.11067366  0.        ]]\n"
     ]
    }
   ],
   "source": [
    "D = np.empty((N, N))\n",
    "for i in range(N):\n",
    "    for j in range(N):\n",
    "        D[i,j] = exp.dtw_arow_distance(dataset[i], dataset[j], dtw_params)\n",
    "\n",
    "print(D)"
   ]
  },
  {
   "cell_type": "code",
   "execution_count": 6,
   "metadata": {},
   "outputs": [
    {
     "name": "stdout",
     "output_type": "stream",
     "text": [
      "[[ 0.          4.5126086   4.64578662 15.42724862]\n",
      " [ 4.5126086   0.          4.8194681  14.12444689]\n",
      " [ 4.64578662  4.8194681   0.         14.11067366]\n",
      " [15.42724862 14.12444689 14.11067366  0.        ]]\n"
     ]
    }
   ],
   "source": [
    "D_ = exp.dtw_arow_distance_matrix(dataset=dataset, dtw_params=dtw_params)\n",
    "\n",
    "print(D_)"
   ]
  },
  {
   "cell_type": "markdown",
   "metadata": {},
   "source": [
    "### Multivariate:"
   ]
  },
  {
   "cell_type": "code",
   "execution_count": 7,
   "metadata": {},
   "outputs": [],
   "source": [
    "def convert_univariate_into_multivariate(x, a, d):\n",
    "    # Convert a univariate time series into multivariate (with D dimensions) by adding the constants in a to every dimension\n",
    "    x = np.tile(x/np.sqrt(d), (d,1)).T\n",
    "    x += a\n",
    "    \n",
    "    return x"
   ]
  },
  {
   "cell_type": "markdown",
   "metadata": {},
   "source": [
    "Transform the univariate dataset into multivariate without changing the pairwise DTW distances:"
   ]
  },
  {
   "cell_type": "code",
   "execution_count": 8,
   "metadata": {},
   "outputs": [
    {
     "name": "stdout",
     "output_type": "stream",
     "text": [
      "[[[ 5.27647599 -2.02741264  2.1543471 ]\n",
      "  [ 5.27647599 -2.02741264  2.1543471 ]\n",
      "  [        nan         nan         nan]\n",
      "  [ 7.58587707  0.28198844  4.46374818]\n",
      "  [ 7.58587707  0.28198844  4.46374818]\n",
      "  [ 5.85382626 -1.45006237  2.73169737]\n",
      "  [ 5.85382626 -1.45006237  2.73169737]]\n",
      "\n",
      " [[ 5.27647599 -2.02741264  2.1543471 ]\n",
      "  [ 7.58587707  0.28198844  4.46374818]\n",
      "  [        nan         nan         nan]\n",
      "  [        nan         nan         nan]\n",
      "  [ 7.58587707  0.28198844  4.46374818]\n",
      "  [ 7.58587707  0.28198844  4.46374818]\n",
      "  [ 5.85382626 -1.45006237  2.73169737]]\n",
      "\n",
      " [[ 5.56515113 -1.73873751  2.44302224]\n",
      "  [ 7.58587707  0.28198844  4.46374818]\n",
      "  [ 5.85382626 -1.45006237  2.73169737]\n",
      "  [ 5.85382626 -1.45006237  2.73169737]\n",
      "  [ 5.85382626 -1.45006237  2.73169737]\n",
      "  [ 5.85382626 -1.45006237  2.73169737]\n",
      "  [        nan         nan         nan]]\n",
      "\n",
      " [[        nan         nan         nan]\n",
      "  [        nan         nan         nan]\n",
      "  [        nan         nan         nan]\n",
      "  [        nan         nan         nan]\n",
      "  [10.47262842  3.16873978  7.35049952]\n",
      "  [10.47262842  3.16873978  7.35049952]\n",
      "  [10.47262842  3.16873978  7.35049952]]]\n"
     ]
    }
   ],
   "source": [
    "d = 3 # #dimensions\n",
    "a = 10*np.random.rand(d) - 5\n",
    "dataset_multivariate = np.empty(dataset.shape + (d,))\n",
    "for i in range(len(dataset)):\n",
    "    dataset_multivariate[i] = convert_univariate_into_multivariate(dataset[i], a, d)\n",
    "\n",
    "print(dataset_multivariate)"
   ]
  },
  {
   "cell_type": "code",
   "execution_count": 9,
   "metadata": {},
   "outputs": [
    {
     "name": "stdout",
     "output_type": "stream",
     "text": [
      "[[ 0.          4.5126086   4.64578662 15.42724862]\n",
      " [ 4.5126086   0.          4.8194681  14.12444689]\n",
      " [ 4.64578662  4.8194681   0.         14.11067366]\n",
      " [15.42724862 14.12444689 14.11067366  0.        ]]\n"
     ]
    }
   ],
   "source": [
    "D = np.empty((N, N))\n",
    "for i in range(N):\n",
    "    for j in range(N):\n",
    "        D[i,j] = exp.dtw_arow_distance(dataset_multivariate[i], dataset_multivariate[j], dtw_params)\n",
    "\n",
    "print(D)"
   ]
  },
  {
   "cell_type": "code",
   "execution_count": 10,
   "metadata": {},
   "outputs": [
    {
     "name": "stdout",
     "output_type": "stream",
     "text": [
      "[[ 0.          4.5126086   4.64578662 15.42724862]\n",
      " [ 4.5126086   0.          4.8194681  14.12444689]\n",
      " [ 4.64578662  4.8194681   0.         14.11067366]\n",
      " [15.42724862 14.12444689 14.11067366  0.        ]]\n"
     ]
    }
   ],
   "source": [
    "D_ = exp.dtw_arow_distance_matrix(dataset=dataset_multivariate, dtw_params=dtw_params)\n",
    "\n",
    "print(D_)"
   ]
  },
  {
   "cell_type": "markdown",
   "metadata": {},
   "source": [
    "### Univariate variable-length:"
   ]
  },
  {
   "cell_type": "code",
   "execution_count": 11,
   "metadata": {},
   "outputs": [
    {
     "name": "stdout",
     "output_type": "stream",
     "text": [
      "[array([ 1.,  1., nan,  5.,  5.,  2.]), array([ 1.,  5., nan, nan,  5.,  5.,  2.]), array([1.5, 5. , 2. , 2. ]), array([nan, nan, nan, nan, 10.])]\n"
     ]
    }
   ],
   "source": [
    "lengths = [6, 7, 4, 5] # lengths for the time series in dataset\n",
    "\n",
    "dataset_variable_length = []\n",
    "for i in range(len(dataset)):\n",
    "    dataset_variable_length.append(dataset[i, 0:lengths[i]])\n",
    "\n",
    "print(dataset_variable_length)"
   ]
  },
  {
   "cell_type": "code",
   "execution_count": 12,
   "metadata": {},
   "outputs": [
    {
     "name": "stdout",
     "output_type": "stream",
     "text": [
      "[[ 0.          4.5607017   4.5338235  12.77367084]\n",
      " [ 4.5607017   0.          6.10555303 15.09966887]\n",
      " [ 4.5338235   6.10555303  0.                 inf]\n",
      " [12.77367084 15.09966887         inf  0.        ]]\n"
     ]
    }
   ],
   "source": [
    "D = np.empty((N, N))\n",
    "for i in range(N):\n",
    "    for j in range(N):\n",
    "        D[i,j] = exp.dtw_arow_distance(dataset_variable_length[i], dataset_variable_length[j], dtw_params)\n",
    "\n",
    "print(D)"
   ]
  },
  {
   "cell_type": "code",
   "execution_count": 13,
   "metadata": {},
   "outputs": [
    {
     "name": "stdout",
     "output_type": "stream",
     "text": [
      "[[ 0.          4.5607017   4.5338235  12.77367084]\n",
      " [ 4.5607017   0.          6.10555303 15.09966887]\n",
      " [ 4.5338235   6.10555303  0.                 inf]\n",
      " [12.77367084 15.09966887         inf  0.        ]]\n"
     ]
    }
   ],
   "source": [
    "D_ = exp.dtw_arow_distance_matrix(dataset=dataset_variable_length, dtw_params=dtw_params)\n",
    "\n",
    "print(D_)"
   ]
  },
  {
   "cell_type": "markdown",
   "metadata": {},
   "source": [
    "### Multivariate variable-length:"
   ]
  },
  {
   "cell_type": "code",
   "execution_count": 14,
   "metadata": {},
   "outputs": [
    {
     "name": "stdout",
     "output_type": "stream",
     "text": [
      "[array([[ 5.27647599, -2.02741264,  2.1543471 ],\n",
      "       [ 5.27647599, -2.02741264,  2.1543471 ],\n",
      "       [        nan,         nan,         nan],\n",
      "       [ 7.58587707,  0.28198844,  4.46374818],\n",
      "       [ 7.58587707,  0.28198844,  4.46374818],\n",
      "       [ 5.85382626, -1.45006237,  2.73169737]]), array([[ 5.27647599, -2.02741264,  2.1543471 ],\n",
      "       [ 7.58587707,  0.28198844,  4.46374818],\n",
      "       [        nan,         nan,         nan],\n",
      "       [        nan,         nan,         nan],\n",
      "       [ 7.58587707,  0.28198844,  4.46374818],\n",
      "       [ 7.58587707,  0.28198844,  4.46374818],\n",
      "       [ 5.85382626, -1.45006237,  2.73169737]]), array([[ 5.56515113, -1.73873751,  2.44302224],\n",
      "       [ 7.58587707,  0.28198844,  4.46374818],\n",
      "       [ 5.85382626, -1.45006237,  2.73169737],\n",
      "       [ 5.85382626, -1.45006237,  2.73169737]]), array([[        nan,         nan,         nan],\n",
      "       [        nan,         nan,         nan],\n",
      "       [        nan,         nan,         nan],\n",
      "       [        nan,         nan,         nan],\n",
      "       [10.47262842,  3.16873978,  7.35049952]])]\n"
     ]
    }
   ],
   "source": [
    "d = 3 # #dimensions\n",
    "\n",
    "dataset_multivariate_variable_length = list(map(lambda o: convert_univariate_into_multivariate(o, a, d), dataset_variable_length))\n",
    "\n",
    "print(dataset_multivariate_variable_length)"
   ]
  },
  {
   "cell_type": "code",
   "execution_count": 15,
   "metadata": {},
   "outputs": [
    {
     "name": "stdout",
     "output_type": "stream",
     "text": [
      "[[ 0.          4.5607017   4.5338235  12.77367084]\n",
      " [ 4.5607017   0.          6.10555303 15.09966887]\n",
      " [ 4.5338235   6.10555303  0.                 inf]\n",
      " [12.77367084 15.09966887         inf  0.        ]]\n"
     ]
    }
   ],
   "source": [
    "D = np.empty((N, N))\n",
    "for i in range(N):\n",
    "    for j in range(N):\n",
    "        D[i,j] = exp.dtw_arow_distance(dataset_multivariate_variable_length[i], dataset_multivariate_variable_length[j], dtw_params)\n",
    "\n",
    "print(D)"
   ]
  },
  {
   "cell_type": "code",
   "execution_count": 16,
   "metadata": {},
   "outputs": [
    {
     "name": "stdout",
     "output_type": "stream",
     "text": [
      "[[ 0.          4.5607017   4.5338235  12.77367084]\n",
      " [ 4.5607017   0.          6.10555303 15.09966887]\n",
      " [ 4.5338235   6.10555303  0.                 inf]\n",
      " [12.77367084 15.09966887         inf  0.        ]]\n"
     ]
    }
   ],
   "source": [
    "D_ = exp.dtw_arow_distance_matrix(dataset=dataset_multivariate_variable_length, dtw_params=dtw_params)\n",
    "\n",
    "print(D_)"
   ]
  },
  {
   "cell_type": "markdown",
   "metadata": {},
   "source": [
    "## Test the Experiment class:"
   ]
  },
  {
   "cell_type": "code",
   "execution_count": 17,
   "metadata": {
    "notebookRunGroups": {
     "groupValue": ""
    }
   },
   "outputs": [
    {
     "name": "stdout",
     "output_type": "stream",
     "text": [
      "[[ 0.          4.5126086   4.64578662 15.42724862]\n",
      " [ 4.5126086   0.          4.8194681  14.12444689]\n",
      " [ 4.64578662  4.8194681   0.         14.11067366]\n",
      " [15.42724862 14.12444689 14.11067366  0.        ]]\n"
     ]
    }
   ],
   "source": [
    "e_dtw_arow = exp.Experiment()\n",
    "e_dtw_arow.dataset = dataset\n",
    "e_dtw_arow.compute_pairwise_distances('dtw_arow')\n",
    "print(e_dtw_arow.get_pairwise_distances())"
   ]
  },
  {
   "cell_type": "code",
   "execution_count": 25,
   "metadata": {},
   "outputs": [],
   "source": [
    "# dtw_params = {}\n",
    "dtw_cai_params = dict(no_clusters='elbow', \n",
    "                      no_clusters_range_for_elbow=(2,4),\n",
    "                     )"
   ]
  },
  {
   "cell_type": "code",
   "execution_count": 57,
   "metadata": {},
   "outputs": [
    {
     "name": "stdout",
     "output_type": "stream",
     "text": [
      "Computing DTW-AROW distances...\n"
     ]
    },
    {
     "name": "stderr",
     "output_type": "stream",
     "text": [
      "100%|██████████| 4/4 [00:00<00:00, 1336.62it/s]\n",
      "/cw/dtaijupiter/NoCsBack/dtai/aras/miniconda3/envs/missing_dtw_public/lib/python3.11/site-packages/yellowbrick/utils/kneed.py:156: YellowbrickWarning: No 'knee' or 'elbow point' detected This could be due to bad clustering, no actual clusters being formed etc.\n",
      "  warnings.warn(warning_message, YellowbrickWarning)\n",
      "/cw/dtaijupiter/NoCsBack/dtai/aras/miniconda3/envs/missing_dtw_public/lib/python3.11/site-packages/yellowbrick/cluster/elbow.py:374: YellowbrickWarning: No 'knee' or 'elbow' point detected, pass `locate_elbow=False` to remove the warning\n",
      "  warnings.warn(warning_message, YellowbrickWarning)\n"
     ]
    },
    {
     "name": "stdout",
     "output_type": "stream",
     "text": [
      "Executing the clustering in DTW-CAI...\n",
      "Running the elbow method ...\n",
      "DBA initialized by the medoid\n",
      "\n",
      "Iteration0:\n"
     ]
    },
    {
     "name": "stderr",
     "output_type": "stream",
     "text": [
      "calculating distances: 100%|██████████| 4/4 [00:00<00:00, 803.85it/s]\n",
      "imputing: 100%|██████████| 3/3 [00:00<00:00, 567.08it/s]\n",
      "updating the means: 100%|██████████| 3/3 [00:00<00:00, 726.16it/s]\n"
     ]
    },
    {
     "name": "stdout",
     "output_type": "stream",
     "text": [
      "\n",
      "Iteration1:\n"
     ]
    },
    {
     "name": "stderr",
     "output_type": "stream",
     "text": [
      "calculating distances: 100%|██████████| 4/4 [00:00<00:00, 1121.10it/s]\n",
      "imputing: 100%|██████████| 3/3 [00:00<00:00, 924.47it/s]\n"
     ]
    },
    {
     "name": "stdout",
     "output_type": "stream",
     "text": [
      "cluster 0 (counting from 0) has a completely missing mean! Assigning another instance to it...\n",
      "cluster 1 (counting from 0) is empty! Assigning another instance to it...\n",
      "cluster 2 (counting from 0) is empty! Assigning another instance to it...\n"
     ]
    },
    {
     "name": "stderr",
     "output_type": "stream",
     "text": [
      "updating the means: 100%|██████████| 3/3 [00:00<00:00, 605.50it/s]\n"
     ]
    },
    {
     "name": "stdout",
     "output_type": "stream",
     "text": [
      "\n",
      "Iteration2:\n"
     ]
    },
    {
     "name": "stderr",
     "output_type": "stream",
     "text": [
      "calculating distances: 100%|██████████| 4/4 [00:00<00:00, 793.66it/s]\n",
      "imputing: 100%|██████████| 3/3 [00:00<00:00, 585.80it/s]\n",
      "updating the means: 100%|██████████| 3/3 [00:00<00:00, 667.88it/s]\n"
     ]
    },
    {
     "name": "stdout",
     "output_type": "stream",
     "text": [
      "\n",
      "Iteration3:\n"
     ]
    },
    {
     "name": "stderr",
     "output_type": "stream",
     "text": [
      "calculating distances: 100%|██████████| 4/4 [00:00<00:00, 956.29it/s]\n",
      "imputing: 100%|██████████| 3/3 [00:00<00:00, 758.88it/s]\n",
      "updating the means: 100%|██████████| 3/3 [00:00<00:00, 689.40it/s]\n"
     ]
    },
    {
     "name": "stdout",
     "output_type": "stream",
     "text": [
      "\n",
      "Iteration4:\n"
     ]
    },
    {
     "name": "stderr",
     "output_type": "stream",
     "text": [
      "calculating distances: 100%|██████████| 4/4 [00:00<00:00, 773.50it/s]\n",
      "imputing: 100%|██████████| 3/3 [00:00<00:00, 546.87it/s]\n",
      "imputing: 100%|██████████| 3/3 [00:00<00:00, 551.28it/s]\n"
     ]
    },
    {
     "name": "stdout",
     "output_type": "stream",
     "text": [
      "\n",
      "Calculating DRW-AROW distances based on the imputed data...\n"
     ]
    },
    {
     "name": "stderr",
     "output_type": "stream",
     "text": [
      "100%|██████████| 4/4 [00:00<00:00, 1544.15it/s]"
     ]
    },
    {
     "name": "stdout",
     "output_type": "stream",
     "text": [
      "DTW-CAI completed.\n"
     ]
    },
    {
     "name": "stderr",
     "output_type": "stream",
     "text": [
      "\n"
     ]
    },
    {
     "data": {
      "text/plain": [
       "array([[ 0.        ,  4.5126086 ,  4.64578662, 15.42724862],\n",
       "       [ 4.5126086 ,  0.        ,  4.8194681 , 14.12444689],\n",
       "       [ 4.64578662,  4.8194681 ,  0.        , 14.11067366],\n",
       "       [15.42724862, 14.12444689, 14.11067366,  0.        ]])"
      ]
     },
     "execution_count": 57,
     "metadata": {},
     "output_type": "execute_result"
    }
   ],
   "source": [
    "e_dtw_cai = exp.Experiment()\n",
    "e_dtw_cai.dataset = dataset\n",
    "e_dtw_cai.compute_pairwise_distances('dtw_cai', \n",
    "                                     missing_method_params=[dtw_params, dtw_cai_params],\n",
    "                                     progress_bar=True, n_jobs=1)"
   ]
  }
 ],
 "metadata": {
  "kernelspec": {
   "display_name": "missing_dtw_public",
   "language": "python",
   "name": "python3"
  },
  "language_info": {
   "codemirror_mode": {
    "name": "ipython",
    "version": 3
   },
   "file_extension": ".py",
   "mimetype": "text/x-python",
   "name": "python",
   "nbconvert_exporter": "python",
   "pygments_lexer": "ipython3",
   "version": "3.11.4"
  },
  "orig_nbformat": 4
 },
 "nbformat": 4,
 "nbformat_minor": 2
}
